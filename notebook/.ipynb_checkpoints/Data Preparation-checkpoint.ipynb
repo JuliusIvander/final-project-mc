{
 "cells": [
  {
   "cell_type": "code",
   "execution_count": 1,
   "id": "2c89cf22",
   "metadata": {},
   "outputs": [],
   "source": [
    "import os\n",
    "import pandas as pd\n",
    "import matplotlib.pyplot as plt\n",
    "import matplotlib.image as mpimg\n",
    "from sklearn.model_selection import train_test_split"
   ]
  },
  {
   "cell_type": "code",
   "execution_count": null,
   "id": "fe60bd91",
   "metadata": {},
   "outputs": [],
   "source": [
    "ANNOTATION_DIR = \"../dataset/labels/\"\n",
    "IMAGE_DIR = \"../dataset/images/\""
   ]
  },
  {
   "cell_type": "markdown",
   "id": "8c941377",
   "metadata": {},
   "source": [
    "Counting how many labels in whole images"
   ]
  },
  {
   "cell_type": "code",
   "execution_count": null,
   "id": "8ed03db7",
   "metadata": {},
   "outputs": [],
   "source": []
  }
 ],
 "metadata": {
  "kernelspec": {
   "display_name": "Python 3 (ipykernel)",
   "language": "python",
   "name": "python3"
  },
  "language_info": {
   "codemirror_mode": {
    "name": "ipython",
    "version": 3
   },
   "file_extension": ".py",
   "mimetype": "text/x-python",
   "name": "python",
   "nbconvert_exporter": "python",
   "pygments_lexer": "ipython3",
   "version": "3.9.5"
  }
 },
 "nbformat": 4,
 "nbformat_minor": 5
}
